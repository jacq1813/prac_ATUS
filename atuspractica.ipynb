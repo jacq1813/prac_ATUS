{
 "cells": [
  {
   "cell_type": "code",
   "execution_count": null,
   "id": "4ee326e5",
   "metadata": {
    "papermill": {
     "duration": 0.002105,
     "end_time": "2024-10-03T20:39:00.431341",
     "exception": false,
     "start_time": "2024-10-03T20:39:00.429236",
     "status": "completed"
    },
    "tags": []
   },
   "outputs": [],
   "source": []
  },
  {
   "cell_type": "code",
   "execution_count": 1,
   "id": "251469b5",
   "metadata": {
    "_cell_guid": "b1076dfc-b9ad-4769-8c92-a6c4dae69d19",
    "_uuid": "8f2839f25d086af736a60e9eeb907d3b93b6e0e5",
    "execution": {
     "iopub.execute_input": "2024-10-03T20:39:00.436723Z",
     "iopub.status.busy": "2024-10-03T20:39:00.436283Z",
     "iopub.status.idle": "2024-10-03T20:39:01.255070Z",
     "shell.execute_reply": "2024-10-03T20:39:01.253559Z"
    },
    "papermill": {
     "duration": 0.824734,
     "end_time": "2024-10-03T20:39:01.257933",
     "exception": false,
     "start_time": "2024-10-03T20:39:00.433199",
     "status": "completed"
    },
    "tags": []
   },
   "outputs": [
    {
     "name": "stdout",
     "output_type": "stream",
     "text": [
      "/kaggle/input/atus-practica/.DS_Store\n",
      "/kaggle/input/atus-practica/atus_anual_csv/leeme_faq.txt\n",
      "/kaggle/input/atus-practica/atus_anual_csv/.DS_Store\n",
      "/kaggle/input/atus-practica/atus_anual_csv/metadatos/metadatos_atus_anual_1997_2023.txt\n",
      "/kaggle/input/atus-practica/atus_anual_csv/diccionario_de_datos/diccionario_de_datos_atus_anual_1997_2023.csv\n",
      "/kaggle/input/atus-practica/atus_anual_csv/catalogos/tc_hora.csv\n",
      "/kaggle/input/atus-practica/atus_anual_csv/catalogos/tc_municipio.csv\n",
      "/kaggle/input/atus-practica/atus_anual_csv/catalogos/tc_dia.csv\n",
      "/kaggle/input/atus-practica/atus_anual_csv/catalogos/tc_entidad.csv\n",
      "/kaggle/input/atus-practica/atus_anual_csv/catalogos/tc_minuto.csv\n",
      "/kaggle/input/atus-practica/atus_anual_csv/catalogos/tc_periodo_mes.csv\n",
      "/kaggle/input/atus-practica/atus_anual_csv/catalogos/tc_edad.csv\n",
      "/kaggle/input/atus-practica/atus_anual_csv/conjunto_de_datos/atus_anual_2021.csv\n",
      "/kaggle/input/atus-practica/atus_anual_csv/conjunto_de_datos/atus_anual_2022.csv\n",
      "/kaggle/input/atus-practica/atus_anual_csv/conjunto_de_datos/.DS_Store\n",
      "/kaggle/input/atus-practica/atus_anual_csv/conjunto_de_datos/atus_anual_2023.csv\n"
     ]
    }
   ],
   "source": [
    "# This Python 3 environment comes with many helpful analytics libraries installed\n",
    "# It is defined by the kaggle/python Docker image: https://github.com/kaggle/docker-python\n",
    "# For example, here's several helpful packages to load\n",
    "\n",
    "import numpy as np # linear algebra\n",
    "import pandas as pd # data processing, CSV file I/O (e.g. pd.read_csv)\n",
    "\n",
    "# Input data files are available in the read-only \"../input/\" directory\n",
    "# For example, running this (by clicking run or pressing Shift+Enter) will list all files under the input directory\n",
    "\n",
    "import os\n",
    "for dirname, _, filenames in os.walk('/kaggle/input'):\n",
    "    for filename in filenames:\n",
    "        print(os.path.join(dirname, filename))\n",
    "\n",
    "# You can write up to 20GB to the current directory (/kaggle/working/) that gets preserved as output when you create a version using \"Save & Run All\" \n",
    "# You can also write temporary files to /kaggle/temp/, but they won't be saved outside of the current session"
   ]
  }
 ],
 "metadata": {
  "kaggle": {
   "accelerator": "none",
   "dataSources": [
    {
     "datasetId": 5813083,
     "sourceId": 9542333,
     "sourceType": "datasetVersion"
    }
   ],
   "isGpuEnabled": false,
   "isInternetEnabled": false,
   "language": "python",
   "sourceType": "notebook"
  },
  "kernelspec": {
   "display_name": "Python 3",
   "language": "python",
   "name": "python3"
  },
  "language_info": {
   "codemirror_mode": {
    "name": "ipython",
    "version": 3
   },
   "file_extension": ".py",
   "mimetype": "text/x-python",
   "name": "python",
   "nbconvert_exporter": "python",
   "pygments_lexer": "ipython3",
   "version": "3.10.14"
  },
  "papermill": {
   "default_parameters": {},
   "duration": 3.9083,
   "end_time": "2024-10-03T20:39:01.578844",
   "environment_variables": {},
   "exception": null,
   "input_path": "__notebook__.ipynb",
   "output_path": "__notebook__.ipynb",
   "parameters": {},
   "start_time": "2024-10-03T20:38:57.670544",
   "version": "2.6.0"
  }
 },
 "nbformat": 4,
 "nbformat_minor": 5
}
